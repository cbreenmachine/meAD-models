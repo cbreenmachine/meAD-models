{
 "cells": [
  {
   "cell_type": "code",
   "execution_count": null,
   "id": "4a0566cc",
   "metadata": {},
   "outputs": [],
   "source": [
    "library(tidyverse)\n",
    "library(wiscR)\n",
    "library(kableExtra)"
   ]
  },
  {
   "cell_type": "code",
   "execution_count": 2,
   "id": "ed417e38",
   "metadata": {},
   "outputs": [
    {
     "name": "stderr",
     "output_type": "stream",
     "text": [
      "\u001b[1mRows: \u001b[22m\u001b[34m84\u001b[39m \u001b[1mColumns: \u001b[22m\u001b[34m7\u001b[39m\n",
      "\n",
      "\u001b[36m──\u001b[39m \u001b[1mColumn specification\u001b[22m \u001b[36m────────────────────────────────────────────────────────────────────────────────────────────────────────\u001b[39m\n",
      "\u001b[1mDelimiter:\u001b[22m \",\"\n",
      "\u001b[32mdbl\u001b[39m (7): sample, min, q1, median, mean, q3, max\n",
      "\n",
      "\n",
      "\u001b[36mℹ\u001b[39m Use \u001b[30m\u001b[47m\u001b[30m\u001b[47m`spec()`\u001b[47m\u001b[30m\u001b[49m\u001b[39m to retrieve the full column specification for this data.\n",
      "\u001b[36mℹ\u001b[39m Specify the column types or set \u001b[30m\u001b[47m\u001b[30m\u001b[47m`show_col_types = FALSE`\u001b[47m\u001b[30m\u001b[49m\u001b[39m to quiet this message.\n",
      "\n",
      "\u001b[1mRows: \u001b[22m\u001b[34m63\u001b[39m \u001b[1mColumns: \u001b[22m\u001b[34m17\u001b[39m\n",
      "\n",
      "\u001b[36m──\u001b[39m \u001b[1mColumn specification\u001b[22m \u001b[36m────────────────────────────────────────────────────────────────────────────────────────────────────────\u001b[39m\n",
      "\u001b[1mDelimiter:\u001b[22m \",\"\n",
      "\u001b[32mdbl\u001b[39m (17): sample, reads, fragments, unique_percent, unique, aligned, uniquel...\n",
      "\n",
      "\n",
      "\u001b[36mℹ\u001b[39m Use \u001b[30m\u001b[47m\u001b[30m\u001b[47m`spec()`\u001b[47m\u001b[30m\u001b[49m\u001b[39m to retrieve the full column specification for this data.\n",
      "\u001b[36mℹ\u001b[39m Specify the column types or set \u001b[30m\u001b[47m\u001b[30m\u001b[47m`show_col_types = FALSE`\u001b[47m\u001b[30m\u001b[49m\u001b[39m to quiet this message.\n",
      "\n"
     ]
    }
   ],
   "source": [
    "df <- inner_join(read_csv(\"coverage.csv\", show_col_types = FALSE), \n",
    "                 read_csv(\"quality.csv\", show_col_types = FALSE), by = \"sample\")\n",
    "        #inner_join(read_table(\"../../data/meta/ADRC-samplesheet-cleaned.tsv\"), by = \"sample\")"
   ]
  },
  {
   "cell_type": "code",
   "execution_count": 39,
   "id": "808c2cdf",
   "metadata": {},
   "outputs": [
    {
     "name": "stdout",
     "output_type": "stream",
     "text": [
      "\u001b[90m# A tibble: 4 × 2\u001b[39m\n",
      "  Measurement       Value      \n",
      "  \u001b[3m\u001b[90m<chr>\u001b[39m\u001b[23m             \u001b[3m\u001b[90m<chr>\u001b[39m\u001b[23m      \n",
      "\u001b[90m1\u001b[39m MeanReads         566,000,000\n",
      "\u001b[90m2\u001b[39m MeanUniqueAligned 480,000,000\n",
      "\u001b[90m3\u001b[39m MeanCoverage      37.43      \n",
      "\u001b[90m4\u001b[39m NumUsableCpGs     25,340,000 \n"
     ]
    }
   ],
   "source": [
    "options(digits = 2)\n",
    "#options(scipen = 10)\n",
    "\n",
    "clean <- function(x, n=-6){format(round(x, n), big.mark=\",\", scientific=FALSE)}\n",
    "\n",
    "tbl <-df %>% \n",
    "    summarize(MeanReads = clean(mean(fragments)),\n",
    "             MeanUniqueAligned = clean(mean(uniquely_aligned * 1e9 / (2*148))),\n",
    "             MeanCoverage = as.character(round(mean(med_cov_passed_variants), 2)),\n",
    "             NumUsableCpGs = clean(mean(passed_cp_gs / 2), n = -4) ) %>%\n",
    "    pivot_longer(cols = names(.), names_to = \"Measurement\", values_to = \"Value\")\n",
    "\n",
    "print(tbl)"
   ]
  },
  {
   "cell_type": "code",
   "execution_count": 40,
   "id": "b432e9a1",
   "metadata": {},
   "outputs": [
    {
     "ename": "ERROR",
     "evalue": "Error in kable_styling(., latex_options = \"striped\"): could not find function \"kable_styling\"\n",
     "output_type": "error",
     "traceback": [
      "Error in kable_styling(., latex_options = \"striped\"): could not find function \"kable_styling\"\nTraceback:\n",
      "1. kable(tbl, \"latex\") %>% kable_styling(latex_options = \"striped\")"
     ]
    }
   ],
   "source": [
    "kable(tbl, \"latex\") %>%\n",
    "  kable_styling(latex_options = \"striped\")"
   ]
  },
  {
   "cell_type": "code",
   "execution_count": null,
   "id": "27cfb85c",
   "metadata": {},
   "outputs": [],
   "source": []
  },
  {
   "cell_type": "code",
   "execution_count": 5,
   "id": "bcddfccf",
   "metadata": {},
   "outputs": [
    {
     "data": {
      "text/html": [
       "<style>\n",
       ".list-inline {list-style: none; margin:0; padding: 0}\n",
       ".list-inline>li {display: inline-block}\n",
       ".list-inline>li:not(:last-child)::after {content: \"\\00b7\"; padding: 0 .5ex}\n",
       "</style>\n",
       "<ol class=list-inline><li>'sample'</li><li>'min'</li><li>'q1'</li><li>'median'</li><li>'mean'</li><li>'q3'</li><li>'max'</li><li>'reads'</li><li>'fragments'</li><li>'unique_percent'</li><li>'unique'</li><li>'aligned'</li><li>'uniquely_aligned'</li><li>'passed'</li><li>'gc_depth_corr'</li><li>'variants'</li><li>'passed_variants'</li><li>'med_cov_passed_variants'</li><li>'ti_tv_ratio'</li><li>'med_cp_g_meth'</li><li>'passed_cp_gs'</li><li>'median_cpg_cov'</li><li>'gigabases'</li></ol>\n"
      ],
      "text/latex": [
       "\\begin{enumerate*}\n",
       "\\item 'sample'\n",
       "\\item 'min'\n",
       "\\item 'q1'\n",
       "\\item 'median'\n",
       "\\item 'mean'\n",
       "\\item 'q3'\n",
       "\\item 'max'\n",
       "\\item 'reads'\n",
       "\\item 'fragments'\n",
       "\\item 'unique\\_percent'\n",
       "\\item 'unique'\n",
       "\\item 'aligned'\n",
       "\\item 'uniquely\\_aligned'\n",
       "\\item 'passed'\n",
       "\\item 'gc\\_depth\\_corr'\n",
       "\\item 'variants'\n",
       "\\item 'passed\\_variants'\n",
       "\\item 'med\\_cov\\_passed\\_variants'\n",
       "\\item 'ti\\_tv\\_ratio'\n",
       "\\item 'med\\_cp\\_g\\_meth'\n",
       "\\item 'passed\\_cp\\_gs'\n",
       "\\item 'median\\_cpg\\_cov'\n",
       "\\item 'gigabases'\n",
       "\\end{enumerate*}\n"
      ],
      "text/markdown": [
       "1. 'sample'\n",
       "2. 'min'\n",
       "3. 'q1'\n",
       "4. 'median'\n",
       "5. 'mean'\n",
       "6. 'q3'\n",
       "7. 'max'\n",
       "8. 'reads'\n",
       "9. 'fragments'\n",
       "10. 'unique_percent'\n",
       "11. 'unique'\n",
       "12. 'aligned'\n",
       "13. 'uniquely_aligned'\n",
       "14. 'passed'\n",
       "15. 'gc_depth_corr'\n",
       "16. 'variants'\n",
       "17. 'passed_variants'\n",
       "18. 'med_cov_passed_variants'\n",
       "19. 'ti_tv_ratio'\n",
       "20. 'med_cp_g_meth'\n",
       "21. 'passed_cp_gs'\n",
       "22. 'median_cpg_cov'\n",
       "23. 'gigabases'\n",
       "\n",
       "\n"
      ],
      "text/plain": [
       " [1] \"sample\"                  \"min\"                    \n",
       " [3] \"q1\"                      \"median\"                 \n",
       " [5] \"mean\"                    \"q3\"                     \n",
       " [7] \"max\"                     \"reads\"                  \n",
       " [9] \"fragments\"               \"unique_percent\"         \n",
       "[11] \"unique\"                  \"aligned\"                \n",
       "[13] \"uniquely_aligned\"        \"passed\"                 \n",
       "[15] \"gc_depth_corr\"           \"variants\"               \n",
       "[17] \"passed_variants\"         \"med_cov_passed_variants\"\n",
       "[19] \"ti_tv_ratio\"             \"med_cp_g_meth\"          \n",
       "[21] \"passed_cp_gs\"            \"median_cpg_cov\"         \n",
       "[23] \"gigabases\"              "
      ]
     },
     "metadata": {},
     "output_type": "display_data"
    }
   ],
   "source": [
    "names(df)"
   ]
  },
  {
   "cell_type": "code",
   "execution_count": null,
   "id": "bca570e7",
   "metadata": {},
   "outputs": [],
   "source": []
  }
 ],
 "metadata": {
  "kernelspec": {
   "display_name": "R [conda env:R] *",
   "language": "R",
   "name": "conda-env-R-r"
  },
  "language_info": {
   "codemirror_mode": "r",
   "file_extension": ".r",
   "mimetype": "text/x-r-source",
   "name": "R",
   "pygments_lexer": "r",
   "version": "4.0.3"
  }
 },
 "nbformat": 4,
 "nbformat_minor": 5
}
